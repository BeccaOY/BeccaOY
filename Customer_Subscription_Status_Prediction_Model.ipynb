{
  "nbformat": 4,
  "nbformat_minor": 0,
  "metadata": {
    "colab": {
      "name": "Customer Subscription Status Prediction Model",
      "provenance": [],
      "collapsed_sections": [],
      "authorship_tag": "ABX9TyOpAOyuzbzJTX0mKeKAc+Vs",
      "include_colab_link": true
    },
    "kernelspec": {
      "name": "python3",
      "display_name": "Python 3"
    },
    "language_info": {
      "name": "python"
    }
  },
  "cells": [
    {
      "cell_type": "markdown",
      "metadata": {
        "id": "view-in-github",
        "colab_type": "text"
      },
      "source": [
        "<a href=\"https://colab.research.google.com/github/BeccaOY/BeccaOY/blob/main/Customer_Subscription_Status_Prediction_Model.ipynb\" target=\"_parent\"><img src=\"https://colab.research.google.com/assets/colab-badge.svg\" alt=\"Open In Colab\"/></a>"
      ]
    },
    {
      "cell_type": "markdown",
      "source": [
        "BUSINESS OBJECTIVE:\n",
        "- Train a model to predict customers who will unsubscribe in July 2018"
      ],
      "metadata": {
        "id": "fyTcEkf3ua7c"
      }
    },
    {
      "cell_type": "markdown",
      "source": [
        "BUSINESS HYPOTHESES: \n",
        "Customers who unsubcribe are likely...\n",
        "- Received too many emails\n",
        "- Acquired recently\n",
        "- Not as engaged \n",
        "\t- less store visit\n",
        "\t- less email open & click\n",
        "\t- spend less\n",
        "\t- shop in fewer product areas\n",
        "\t- no dillards' credit card\n",
        "- Live further from store"
      ],
      "metadata": {
        "id": "eEPbHWZu0Ckc"
      }
    },
    {
      "cell_type": "markdown",
      "source": [
        "READ IN DATA USING PANDAS"
      ],
      "metadata": {
        "id": "MN81weEWuBh7"
      }
    },
    {
      "cell_type": "code",
      "source": [
        "import pandas as pd\n",
        "\n",
        "\n"
      ],
      "metadata": {
        "id": "Rks--y14uAlv"
      },
      "execution_count": 252,
      "outputs": []
    },
    {
      "cell_type": "code",
      "source": [
        "sub_status = pd.read_csv('customer_subscription_status.csv')\n",
        "email_activity = pd.read_csv('customer_email_campaign_agg.txt')\n",
        "customer_info = pd.read_csv('customer.txt')\n",
        "store_location= pd.read_csv('store_location.txt')\n",
        "purchase_info = pd.read_csv('item.txt')\n"
      ],
      "metadata": {
        "id": "4MIEM4qtufts"
      },
      "execution_count": 253,
      "outputs": []
    },
    {
      "cell_type": "markdown",
      "source": [
        " TESTING FIRST HYPOTHESIS, TOO MANY EMAILS\n"
      ],
      "metadata": {
        "id": "t316nwY1094M"
      }
    },
    {
      "cell_type": "code",
      "source": [
        "#view data\n",
        "email_activity.head()\n"
      ],
      "metadata": {
        "colab": {
          "base_uri": "https://localhost:8080/",
          "height": 224
        },
        "id": "PhrK6fCG1HEU",
        "outputId": "4f8d3279-f7e1-447f-ed89-1397fd6f9a06"
      },
      "execution_count": 254,
      "outputs": [
        {
          "output_type": "execute_result",
          "data": {
            "text/html": [
              "<div>\n",
              "<style scoped>\n",
              "    .dataframe tbody tr th:only-of-type {\n",
              "        vertical-align: middle;\n",
              "    }\n",
              "\n",
              "    .dataframe tbody tr th {\n",
              "        vertical-align: top;\n",
              "    }\n",
              "\n",
              "    .dataframe thead th {\n",
              "        text-align: right;\n",
              "    }\n",
              "</style>\n",
              "<table border=\"1\" class=\"dataframe\">\n",
              "  <thead>\n",
              "    <tr style=\"text-align: right;\">\n",
              "      <th></th>\n",
              "      <th>customer_id</th>\n",
              "      <th>total_email_sent_count</th>\n",
              "      <th>total_email_open_count</th>\n",
              "      <th>total_email_click_count</th>\n",
              "      <th>product_email_sent_count</th>\n",
              "      <th>product_email_open_count</th>\n",
              "      <th>product_email_click_count</th>\n",
              "      <th>sale_email_sent_count</th>\n",
              "      <th>sale_email_open_count</th>\n",
              "      <th>sale_email_click_count</th>\n",
              "      <th>last_email_open_date</th>\n",
              "      <th>last_email_click_date</th>\n",
              "    </tr>\n",
              "  </thead>\n",
              "  <tbody>\n",
              "    <tr>\n",
              "      <th>0</th>\n",
              "      <td>225440671</td>\n",
              "      <td>55</td>\n",
              "      <td>16</td>\n",
              "      <td>0</td>\n",
              "      <td>41</td>\n",
              "      <td>12</td>\n",
              "      <td>0</td>\n",
              "      <td>3</td>\n",
              "      <td>1</td>\n",
              "      <td>0</td>\n",
              "      <td>7/1/2018</td>\n",
              "      <td>?</td>\n",
              "    </tr>\n",
              "    <tr>\n",
              "      <th>1</th>\n",
              "      <td>226090744</td>\n",
              "      <td>29</td>\n",
              "      <td>3</td>\n",
              "      <td>1</td>\n",
              "      <td>24</td>\n",
              "      <td>1</td>\n",
              "      <td>0</td>\n",
              "      <td>2</td>\n",
              "      <td>1</td>\n",
              "      <td>1</td>\n",
              "      <td>6/29/2018</td>\n",
              "      <td>6/28/2018</td>\n",
              "    </tr>\n",
              "    <tr>\n",
              "      <th>2</th>\n",
              "      <td>180891722</td>\n",
              "      <td>24</td>\n",
              "      <td>0</td>\n",
              "      <td>0</td>\n",
              "      <td>17</td>\n",
              "      <td>0</td>\n",
              "      <td>0</td>\n",
              "      <td>3</td>\n",
              "      <td>0</td>\n",
              "      <td>0</td>\n",
              "      <td>?</td>\n",
              "      <td>?</td>\n",
              "    </tr>\n",
              "    <tr>\n",
              "      <th>3</th>\n",
              "      <td>166847570</td>\n",
              "      <td>22</td>\n",
              "      <td>0</td>\n",
              "      <td>0</td>\n",
              "      <td>15</td>\n",
              "      <td>0</td>\n",
              "      <td>0</td>\n",
              "      <td>2</td>\n",
              "      <td>0</td>\n",
              "      <td>0</td>\n",
              "      <td>?</td>\n",
              "      <td>?</td>\n",
              "    </tr>\n",
              "    <tr>\n",
              "      <th>4</th>\n",
              "      <td>195739838</td>\n",
              "      <td>2</td>\n",
              "      <td>1</td>\n",
              "      <td>0</td>\n",
              "      <td>1</td>\n",
              "      <td>0</td>\n",
              "      <td>0</td>\n",
              "      <td>1</td>\n",
              "      <td>1</td>\n",
              "      <td>0</td>\n",
              "      <td>6/27/2018</td>\n",
              "      <td>?</td>\n",
              "    </tr>\n",
              "  </tbody>\n",
              "</table>\n",
              "</div>"
            ],
            "text/plain": [
              "   customer_id  ...  last_email_click_date\n",
              "0    225440671  ...                      ?\n",
              "1    226090744  ...              6/28/2018\n",
              "2    180891722  ...                      ?\n",
              "3    166847570  ...                      ?\n",
              "4    195739838  ...                      ?\n",
              "\n",
              "[5 rows x 12 columns]"
            ]
          },
          "metadata": {},
          "execution_count": 254
        }
      ]
    },
    {
      "cell_type": "code",
      "source": [
        "sub_status.head()"
      ],
      "metadata": {
        "colab": {
          "base_uri": "https://localhost:8080/",
          "height": 204
        },
        "id": "sOvZ1vE11S3T",
        "outputId": "7b831d6f-35c7-4dbc-8c23-2bfdd4f66165"
      },
      "execution_count": 255,
      "outputs": [
        {
          "output_type": "execute_result",
          "data": {
            "text/html": [
              "<div>\n",
              "<style scoped>\n",
              "    .dataframe tbody tr th:only-of-type {\n",
              "        vertical-align: middle;\n",
              "    }\n",
              "\n",
              "    .dataframe tbody tr th {\n",
              "        vertical-align: top;\n",
              "    }\n",
              "\n",
              "    .dataframe thead th {\n",
              "        text-align: right;\n",
              "    }\n",
              "</style>\n",
              "<table border=\"1\" class=\"dataframe\">\n",
              "  <thead>\n",
              "    <tr style=\"text-align: right;\">\n",
              "      <th></th>\n",
              "      <th>customer_id</th>\n",
              "      <th>unsubscribed_yn</th>\n",
              "    </tr>\n",
              "  </thead>\n",
              "  <tbody>\n",
              "    <tr>\n",
              "      <th>0</th>\n",
              "      <td>223824501</td>\n",
              "      <td>N</td>\n",
              "    </tr>\n",
              "    <tr>\n",
              "      <th>1</th>\n",
              "      <td>225074975</td>\n",
              "      <td>N</td>\n",
              "    </tr>\n",
              "    <tr>\n",
              "      <th>2</th>\n",
              "      <td>225962452</td>\n",
              "      <td>N</td>\n",
              "    </tr>\n",
              "    <tr>\n",
              "      <th>3</th>\n",
              "      <td>224503675</td>\n",
              "      <td>N</td>\n",
              "    </tr>\n",
              "    <tr>\n",
              "      <th>4</th>\n",
              "      <td>204405913</td>\n",
              "      <td>N</td>\n",
              "    </tr>\n",
              "  </tbody>\n",
              "</table>\n",
              "</div>"
            ],
            "text/plain": [
              "   customer_id unsubscribed_yn\n",
              "0    223824501               N\n",
              "1    225074975               N\n",
              "2    225962452               N\n",
              "3    224503675               N\n",
              "4    204405913               N"
            ]
          },
          "metadata": {},
          "execution_count": 255
        }
      ]
    },
    {
      "cell_type": "code",
      "source": [
        "#perform feature engineering by recoding y, n to 0,1\n",
        "def recode(series):\n",
        "    if series == 'N':\n",
        "      return 1\n",
        "    if series == 'Y':\n",
        "      return 0\n",
        "sub_status['unsubscribed_yn'] = sub_status['unsubscribed_yn'].apply(recode)"
      ],
      "metadata": {
        "id": "1-4RVgk_6BwL"
      },
      "execution_count": 256,
      "outputs": []
    },
    {
      "cell_type": "code",
      "source": [
        "#remove null values\n",
        "sub_status.dropna()\n"
      ],
      "metadata": {
        "colab": {
          "base_uri": "https://localhost:8080/",
          "height": 419
        },
        "id": "Nc-_ctFz9qSK",
        "outputId": "ea47498e-32d0-4e9e-c57f-5279b83acf4f"
      },
      "execution_count": 257,
      "outputs": [
        {
          "output_type": "execute_result",
          "data": {
            "text/html": [
              "<div>\n",
              "<style scoped>\n",
              "    .dataframe tbody tr th:only-of-type {\n",
              "        vertical-align: middle;\n",
              "    }\n",
              "\n",
              "    .dataframe tbody tr th {\n",
              "        vertical-align: top;\n",
              "    }\n",
              "\n",
              "    .dataframe thead th {\n",
              "        text-align: right;\n",
              "    }\n",
              "</style>\n",
              "<table border=\"1\" class=\"dataframe\">\n",
              "  <thead>\n",
              "    <tr style=\"text-align: right;\">\n",
              "      <th></th>\n",
              "      <th>customer_id</th>\n",
              "      <th>unsubscribed_yn</th>\n",
              "    </tr>\n",
              "  </thead>\n",
              "  <tbody>\n",
              "    <tr>\n",
              "      <th>0</th>\n",
              "      <td>223824501</td>\n",
              "      <td>1</td>\n",
              "    </tr>\n",
              "    <tr>\n",
              "      <th>1</th>\n",
              "      <td>225074975</td>\n",
              "      <td>1</td>\n",
              "    </tr>\n",
              "    <tr>\n",
              "      <th>2</th>\n",
              "      <td>225962452</td>\n",
              "      <td>1</td>\n",
              "    </tr>\n",
              "    <tr>\n",
              "      <th>3</th>\n",
              "      <td>224503675</td>\n",
              "      <td>1</td>\n",
              "    </tr>\n",
              "    <tr>\n",
              "      <th>4</th>\n",
              "      <td>204405913</td>\n",
              "      <td>1</td>\n",
              "    </tr>\n",
              "    <tr>\n",
              "      <th>...</th>\n",
              "      <td>...</td>\n",
              "      <td>...</td>\n",
              "    </tr>\n",
              "    <tr>\n",
              "      <th>24995</th>\n",
              "      <td>226433167</td>\n",
              "      <td>0</td>\n",
              "    </tr>\n",
              "    <tr>\n",
              "      <th>24996</th>\n",
              "      <td>207298191</td>\n",
              "      <td>0</td>\n",
              "    </tr>\n",
              "    <tr>\n",
              "      <th>24997</th>\n",
              "      <td>226565446</td>\n",
              "      <td>0</td>\n",
              "    </tr>\n",
              "    <tr>\n",
              "      <th>24998</th>\n",
              "      <td>224727461</td>\n",
              "      <td>0</td>\n",
              "    </tr>\n",
              "    <tr>\n",
              "      <th>24999</th>\n",
              "      <td>224413915</td>\n",
              "      <td>0</td>\n",
              "    </tr>\n",
              "  </tbody>\n",
              "</table>\n",
              "<p>25000 rows × 2 columns</p>\n",
              "</div>"
            ],
            "text/plain": [
              "       customer_id  unsubscribed_yn\n",
              "0        223824501                1\n",
              "1        225074975                1\n",
              "2        225962452                1\n",
              "3        224503675                1\n",
              "4        204405913                1\n",
              "...            ...              ...\n",
              "24995    226433167                0\n",
              "24996    207298191                0\n",
              "24997    226565446                0\n",
              "24998    224727461                0\n",
              "24999    224413915                0\n",
              "\n",
              "[25000 rows x 2 columns]"
            ]
          },
          "metadata": {},
          "execution_count": 257
        }
      ]
    },
    {
      "cell_type": "code",
      "source": [
        "sub_status.head()"
      ],
      "metadata": {
        "colab": {
          "base_uri": "https://localhost:8080/",
          "height": 204
        },
        "id": "oSL9LyG_8Bxx",
        "outputId": "09dd451e-cab8-4f1a-9ea8-dc30ff8d561f"
      },
      "execution_count": 258,
      "outputs": [
        {
          "output_type": "execute_result",
          "data": {
            "text/html": [
              "<div>\n",
              "<style scoped>\n",
              "    .dataframe tbody tr th:only-of-type {\n",
              "        vertical-align: middle;\n",
              "    }\n",
              "\n",
              "    .dataframe tbody tr th {\n",
              "        vertical-align: top;\n",
              "    }\n",
              "\n",
              "    .dataframe thead th {\n",
              "        text-align: right;\n",
              "    }\n",
              "</style>\n",
              "<table border=\"1\" class=\"dataframe\">\n",
              "  <thead>\n",
              "    <tr style=\"text-align: right;\">\n",
              "      <th></th>\n",
              "      <th>customer_id</th>\n",
              "      <th>unsubscribed_yn</th>\n",
              "    </tr>\n",
              "  </thead>\n",
              "  <tbody>\n",
              "    <tr>\n",
              "      <th>0</th>\n",
              "      <td>223824501</td>\n",
              "      <td>1</td>\n",
              "    </tr>\n",
              "    <tr>\n",
              "      <th>1</th>\n",
              "      <td>225074975</td>\n",
              "      <td>1</td>\n",
              "    </tr>\n",
              "    <tr>\n",
              "      <th>2</th>\n",
              "      <td>225962452</td>\n",
              "      <td>1</td>\n",
              "    </tr>\n",
              "    <tr>\n",
              "      <th>3</th>\n",
              "      <td>224503675</td>\n",
              "      <td>1</td>\n",
              "    </tr>\n",
              "    <tr>\n",
              "      <th>4</th>\n",
              "      <td>204405913</td>\n",
              "      <td>1</td>\n",
              "    </tr>\n",
              "  </tbody>\n",
              "</table>\n",
              "</div>"
            ],
            "text/plain": [
              "   customer_id  unsubscribed_yn\n",
              "0    223824501                1\n",
              "1    225074975                1\n",
              "2    225962452                1\n",
              "3    224503675                1\n",
              "4    204405913                1"
            ]
          },
          "metadata": {},
          "execution_count": 258
        }
      ]
    },
    {
      "cell_type": "code",
      "source": [
        "x_activity = email_activity[['total_email_sent_count', 'total_email_open_count']]\n",
        "target = sub_status['unsubscribed_yn']"
      ],
      "metadata": {
        "id": "U7EMKngE5Zmu"
      },
      "execution_count": 259,
      "outputs": []
    },
    {
      "cell_type": "code",
      "source": [
        "#Scale total \n",
        "x = x_activity.iloc[:22100, ]\n",
        "x"
      ],
      "metadata": {
        "colab": {
          "base_uri": "https://localhost:8080/",
          "height": 419
        },
        "id": "IK7m5PjdAjqr",
        "outputId": "6dad8ce4-b224-4725-cc1f-adb37e067185"
      },
      "execution_count": 260,
      "outputs": [
        {
          "output_type": "execute_result",
          "data": {
            "text/html": [
              "<div>\n",
              "<style scoped>\n",
              "    .dataframe tbody tr th:only-of-type {\n",
              "        vertical-align: middle;\n",
              "    }\n",
              "\n",
              "    .dataframe tbody tr th {\n",
              "        vertical-align: top;\n",
              "    }\n",
              "\n",
              "    .dataframe thead th {\n",
              "        text-align: right;\n",
              "    }\n",
              "</style>\n",
              "<table border=\"1\" class=\"dataframe\">\n",
              "  <thead>\n",
              "    <tr style=\"text-align: right;\">\n",
              "      <th></th>\n",
              "      <th>total_email_sent_count</th>\n",
              "      <th>total_email_open_count</th>\n",
              "    </tr>\n",
              "  </thead>\n",
              "  <tbody>\n",
              "    <tr>\n",
              "      <th>0</th>\n",
              "      <td>55</td>\n",
              "      <td>16</td>\n",
              "    </tr>\n",
              "    <tr>\n",
              "      <th>1</th>\n",
              "      <td>29</td>\n",
              "      <td>3</td>\n",
              "    </tr>\n",
              "    <tr>\n",
              "      <th>2</th>\n",
              "      <td>24</td>\n",
              "      <td>0</td>\n",
              "    </tr>\n",
              "    <tr>\n",
              "      <th>3</th>\n",
              "      <td>22</td>\n",
              "      <td>0</td>\n",
              "    </tr>\n",
              "    <tr>\n",
              "      <th>4</th>\n",
              "      <td>2</td>\n",
              "      <td>1</td>\n",
              "    </tr>\n",
              "    <tr>\n",
              "      <th>...</th>\n",
              "      <td>...</td>\n",
              "      <td>...</td>\n",
              "    </tr>\n",
              "    <tr>\n",
              "      <th>22095</th>\n",
              "      <td>26</td>\n",
              "      <td>25</td>\n",
              "    </tr>\n",
              "    <tr>\n",
              "      <th>22096</th>\n",
              "      <td>28</td>\n",
              "      <td>0</td>\n",
              "    </tr>\n",
              "    <tr>\n",
              "      <th>22097</th>\n",
              "      <td>15</td>\n",
              "      <td>0</td>\n",
              "    </tr>\n",
              "    <tr>\n",
              "      <th>22098</th>\n",
              "      <td>29</td>\n",
              "      <td>0</td>\n",
              "    </tr>\n",
              "    <tr>\n",
              "      <th>22099</th>\n",
              "      <td>40</td>\n",
              "      <td>16</td>\n",
              "    </tr>\n",
              "  </tbody>\n",
              "</table>\n",
              "<p>22100 rows × 2 columns</p>\n",
              "</div>"
            ],
            "text/plain": [
              "       total_email_sent_count  total_email_open_count\n",
              "0                          55                      16\n",
              "1                          29                       3\n",
              "2                          24                       0\n",
              "3                          22                       0\n",
              "4                           2                       1\n",
              "...                       ...                     ...\n",
              "22095                      26                      25\n",
              "22096                      28                       0\n",
              "22097                      15                       0\n",
              "22098                      29                       0\n",
              "22099                      40                      16\n",
              "\n",
              "[22100 rows x 2 columns]"
            ]
          },
          "metadata": {},
          "execution_count": 260
        }
      ]
    },
    {
      "cell_type": "code",
      "source": [
        "y = target.iloc[:22100,]\n",
        "y.unique()"
      ],
      "metadata": {
        "colab": {
          "base_uri": "https://localhost:8080/"
        },
        "id": "3pAeu939BiLN",
        "outputId": "76ee7532-9ab9-4dfd-d0ac-a87f5b2791d4"
      },
      "execution_count": 261,
      "outputs": [
        {
          "output_type": "execute_result",
          "data": {
            "text/plain": [
              "array([1, 0])"
            ]
          },
          "metadata": {},
          "execution_count": 261
        }
      ]
    },
    {
      "cell_type": "markdown",
      "source": [
        "SPLIT DATA"
      ],
      "metadata": {
        "id": "L_hCpyjsCr1J"
      }
    },
    {
      "cell_type": "code",
      "source": [
        "from sklearn.model_selection import train_test_split\n",
        "x_train, x_test, y_train, y_test = train_test_split(x, y, test_size = .33)"
      ],
      "metadata": {
        "id": "hr4tg-S359kG"
      },
      "execution_count": 262,
      "outputs": []
    },
    {
      "cell_type": "markdown",
      "source": [
        "BUILD THE MODEL"
      ],
      "metadata": {
        "id": "mReZPefyCv9n"
      }
    },
    {
      "cell_type": "code",
      "source": [
        "from sklearn.linear_model import LogisticRegression\n",
        "#set regularization to generaliza and avoid overfitting\n",
        "reg = .01\n",
        "model = LogisticRegression(C=1/reg,solver='liblinear').fit(x_train,y_train)\n",
        "print(model)"
      ],
      "metadata": {
        "colab": {
          "base_uri": "https://localhost:8080/"
        },
        "id": "tm2LCQzr9diG",
        "outputId": "7794a466-3e34-434d-a625-63cbd96c681a"
      },
      "execution_count": 263,
      "outputs": [
        {
          "output_type": "stream",
          "name": "stdout",
          "text": [
            "LogisticRegression(C=100.0, solver='liblinear')\n"
          ]
        }
      ]
    },
    {
      "cell_type": "markdown",
      "source": [
        "EVALUATE THE MODEL"
      ],
      "metadata": {
        "id": "ssK1EAaXJO06"
      }
    },
    {
      "cell_type": "code",
      "source": [
        "predictions_too_many_emails = model.predict(x_test)\n",
        "print('Actual labels: ', pd.array(y_test))\n",
        "print('Predictions: ', predictions_too_many_emails)"
      ],
      "metadata": {
        "colab": {
          "base_uri": "https://localhost:8080/"
        },
        "id": "xR95psvpJOBK",
        "outputId": "afb12845-75ab-4cfa-84cf-f1d03611bb65"
      },
      "execution_count": 264,
      "outputs": [
        {
          "output_type": "stream",
          "name": "stdout",
          "text": [
            "Actual labels:  <PandasArray>\n",
            "[1, 1, 1, 1, 1, 1, 1, 1, 1, 1,\n",
            " ...\n",
            " 1, 1, 1, 1, 1, 1, 1, 1, 1, 1]\n",
            "Length: 7293, dtype: int64\n",
            "Predictions:  [1 1 1 ... 1 1 1]\n"
          ]
        }
      ]
    },
    {
      "cell_type": "markdown",
      "source": [
        "CHECK ACCURACY\n"
      ],
      "metadata": {
        "id": "f3_jsSSILHyV"
      }
    },
    {
      "cell_type": "code",
      "source": [
        "from sklearn.metrics import accuracy_score\n"
      ],
      "metadata": {
        "id": "oeuwys0sDF9W"
      },
      "execution_count": 265,
      "outputs": []
    },
    {
      "cell_type": "code",
      "source": [
        "accuracy = accuracy_score(y_test, predictions_too_many_emails)\n",
        "print('Accuracy: ', accuracy)"
      ],
      "metadata": {
        "colab": {
          "base_uri": "https://localhost:8080/"
        },
        "id": "X7IgKDnILPge",
        "outputId": "fb807e43-becb-4768-d3d0-dcdaf38e0e23"
      },
      "execution_count": 266,
      "outputs": [
        {
          "output_type": "stream",
          "name": "stdout",
          "text": [
            "Accuracy:  0.9042917866447279\n"
          ]
        }
      ]
    },
    {
      "cell_type": "markdown",
      "source": [
        "The Model was able to predict subscription status with 90% accuracy given  number of emails"
      ],
      "metadata": {
        "id": "yqGABnTJL4ss"
      }
    },
    {
      "cell_type": "markdown",
      "source": [
        "TESTING SECOND HYPOTHESIS:\n",
        "ACQUIRED RECENTLY\n"
      ],
      "metadata": {
        "id": "yU-3dOw-Qtwc"
      }
    },
    {
      "cell_type": "markdown",
      "source": [
        "TESTING FOURTH HYPOTHESIS: LIVE FURTHER FROM STORE"
      ],
      "metadata": {
        "id": "7sow8kr9RIMB"
      }
    },
    {
      "cell_type": "code",
      "source": [
        "customer_location =customer_info['household_distance_to_nearest_store']\n",
        "customer_location.count() "
      ],
      "metadata": {
        "colab": {
          "base_uri": "https://localhost:8080/"
        },
        "id": "nZzpD7r2LlPk",
        "outputId": "765dd137-7f67-47c4-d785-71ef4d775541"
      },
      "execution_count": 267,
      "outputs": [
        {
          "output_type": "execute_result",
          "data": {
            "text/plain": [
              "25000"
            ]
          },
          "metadata": {},
          "execution_count": 267
        }
      ]
    },
    {
      "cell_type": "code",
      "source": [
        "#Remove unknown values\n",
        "import numpy as np\n",
        "customer_location_new = customer_location.replace(\"?\", np.nan)\n",
        "customer_location_new.count()"
      ],
      "metadata": {
        "colab": {
          "base_uri": "https://localhost:8080/"
        },
        "id": "d4FoO9mvRabX",
        "outputId": "485cb0f3-11f9-4e8f-c7f1-f909183f86c2"
      },
      "execution_count": 268,
      "outputs": [
        {
          "output_type": "execute_result",
          "data": {
            "text/plain": [
              "17473"
            ]
          },
          "metadata": {},
          "execution_count": 268
        }
      ]
    },
    {
      "cell_type": "code",
      "source": [
        "customer_location_imp"
      ],
      "metadata": {
        "colab": {
          "base_uri": "https://localhost:8080/"
        },
        "id": "J5j2a3AYsT4V",
        "outputId": "e7103f60-340b-4f58-f24c-2585dbb621f3"
      },
      "execution_count": 269,
      "outputs": [
        {
          "output_type": "execute_result",
          "data": {
            "text/plain": [
              "0           NaN\n",
              "1           NaN\n",
              "2           NaN\n",
              "3           NaN\n",
              "4         4.708\n",
              "          ...  \n",
              "24995    27.048\n",
              "24996       NaN\n",
              "24997     5.913\n",
              "24998    11.486\n",
              "24999       NaN\n",
              "Name: household_distance_to_nearest_store, Length: 25000, dtype: object"
            ]
          },
          "metadata": {},
          "execution_count": 269
        }
      ]
    },
    {
      "cell_type": "code",
      "source": [
        "#x = customer_location_new.iloc[ :17400]\n",
        "x = customer_location_imp\n",
        "x = x.loc[:22000]\n",
        "x"
      ],
      "metadata": {
        "colab": {
          "base_uri": "https://localhost:8080/"
        },
        "id": "FkIlTVS0SM1_",
        "outputId": "6c8e5430-dd0b-4d2f-e00a-31d8a6cb4f09"
      },
      "execution_count": 270,
      "outputs": [
        {
          "output_type": "execute_result",
          "data": {
            "text/plain": [
              "0            NaN\n",
              "1            NaN\n",
              "2            NaN\n",
              "3            NaN\n",
              "4          4.708\n",
              "          ...   \n",
              "21996        NaN\n",
              "21997     75.386\n",
              "21998    158.298\n",
              "21999        NaN\n",
              "22000     15.097\n",
              "Name: household_distance_to_nearest_store, Length: 22001, dtype: object"
            ]
          },
          "metadata": {},
          "execution_count": 270
        }
      ]
    },
    {
      "cell_type": "code",
      "source": [
        "y = y.loc[:22000]"
      ],
      "metadata": {
        "id": "cecgyTO6iMqP"
      },
      "execution_count": 271,
      "outputs": []
    },
    {
      "cell_type": "markdown",
      "source": [
        "SPLIT THE DATA"
      ],
      "metadata": {
        "id": "6WsEtylXVlLb"
      }
    },
    {
      "cell_type": "code",
      "source": [
        "from sklearn.model_selection import train_test_split\n",
        "x_train, x_test, y_train, y_test = train_test_split(x ,y , test_size = .33, )\n",
        "print(x_train.shape)\n",
        "print(x_test.shape)\n",
        "print(y_train.shape)\n",
        "print(y_test.shape)\n"
      ],
      "metadata": {
        "colab": {
          "base_uri": "https://localhost:8080/"
        },
        "id": "NVqGJHBLVDDf",
        "outputId": "585dbc79-1c3e-46db-f340-813dc045fac2"
      },
      "execution_count": 272,
      "outputs": [
        {
          "output_type": "stream",
          "name": "stdout",
          "text": [
            "(14740,)\n",
            "(7261,)\n",
            "(14740,)\n",
            "(7261,)\n"
          ]
        }
      ]
    },
    {
      "cell_type": "markdown",
      "source": [
        "BUILD MODEL"
      ],
      "metadata": {
        "id": "RIRYSMgMVrW6"
      }
    },
    {
      "cell_type": "code",
      "source": [
        "from numpy import array\n",
        "x_array = array(x_train)\n",
        "x_train = x_array.reshape(-1,1)\n",
        "x_arraytest = array(x_test)\n",
        "x_test = x_arraytest.reshape(-1,1)"
      ],
      "metadata": {
        "id": "6IBW15SHe-UG"
      },
      "execution_count": 277,
      "outputs": []
    },
    {
      "cell_type": "code",
      "source": [
        "# Create our imputer to replace missing values with the mean e.g.\n",
        "\n",
        "from sklearn.impute import SimpleImputer\n",
        "imp = SimpleImputer(missing_values=np.nan, strategy='mean')\n",
        "imp = imp.fit(x_train)\n",
        "x_train_imp = imp.transform(x_train)\n",
        "imp = SimpleImputer(missing_values=np.nan, strategy='mean')\n",
        "imp = imp.fit(x_test)\n",
        "x_test_imp = imp.transform(x_test)"
      ],
      "metadata": {
        "id": "e-_PVbHSryBZ"
      },
      "execution_count": 281,
      "outputs": []
    },
    {
      "cell_type": "code",
      "source": [
        "from sklearn.linear_model import LogisticRegression\n",
        "#set regularization to generaliz and avoid overfitting\n",
        "reg = .01\n",
        "model = LogisticRegression(C=1/reg,solver = 'liblinear').fit(x_train_imp,y_train)\n",
        "print(model)"
      ],
      "metadata": {
        "colab": {
          "base_uri": "https://localhost:8080/"
        },
        "id": "V25IcKYmVjfj",
        "outputId": "c9621d46-eff8-4ba5-a323-a868d43a326b"
      },
      "execution_count": 282,
      "outputs": [
        {
          "output_type": "stream",
          "name": "stdout",
          "text": [
            "LogisticRegression(C=100.0, solver='liblinear')\n"
          ]
        }
      ]
    },
    {
      "cell_type": "markdown",
      "source": [
        "EVALUATE MODEL"
      ],
      "metadata": {
        "id": "GzhCtvGfs2Sr"
      }
    },
    {
      "cell_type": "code",
      "source": [
        "predictions_distance = model.predict(x_test_imp)\n"
      ],
      "metadata": {
        "id": "mSm3--RAVs2w"
      },
      "execution_count": 284,
      "outputs": []
    },
    {
      "cell_type": "markdown",
      "source": [
        "CHECK ACCURACY"
      ],
      "metadata": {
        "id": "x_N4GYG-uCsB"
      }
    },
    {
      "cell_type": "code",
      "source": [
        "accuracy = accuracy_score(y_test,predictions_distance)\n",
        "print('Accuracy: ', accuracy)\n"
      ],
      "metadata": {
        "colab": {
          "base_uri": "https://localhost:8080/"
        },
        "id": "U25xaSQDtd1y",
        "outputId": "108ed157-b5ed-4dca-b40f-c1dbf9b7d633"
      },
      "execution_count": 286,
      "outputs": [
        {
          "output_type": "stream",
          "name": "stdout",
          "text": [
            "Accuracy:  0.9088279851260157\n"
          ]
        }
      ]
    },
    {
      "cell_type": "markdown",
      "source": [
        "Distance from store predicted subscription status with 91% accuracy\n"
      ],
      "metadata": {
        "id": "sE253rgsulj8"
      }
    },
    {
      "cell_type": "code",
      "source": [
        ""
      ],
      "metadata": {
        "id": "ce7wNASVuRs1"
      },
      "execution_count": null,
      "outputs": []
    }
  ]
}